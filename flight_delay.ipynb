{
 "cells": [
  {
   "cell_type": "markdown",
   "source": [
    "Bar Charts and Heatmaps\n",
    "\n",
    "    a dataset from the US Department of Transportation that tracks flight delays."
   ],
   "metadata": {
    "collapsed": false
   }
  },
  {
   "cell_type": "code",
   "execution_count": 1,
   "outputs": [
    {
     "name": "stdout",
     "output_type": "stream",
     "text": [
      "Setup Complete\n"
     ]
    }
   ],
   "source": [
    "import pandas as pd\n",
    "pd.plotting.register_matplotlib_converters()\n",
    "import matplotlib.pyplot as plt\n",
    "%matplotlib inline\n",
    "import seaborn as sns\n",
    "print(\"Setup Complete\")"
   ],
   "metadata": {
    "collapsed": false
   }
  },
  {
   "cell_type": "code",
   "execution_count": 3,
   "outputs": [],
   "source": [
    "# Path of the file to read\n",
    "flight_delays_filepath = \"/Users/vuhoanganhdang/Desktop/Seaborn/dataset/flight_delays.csv\"\n",
    "\n",
    "# Read the file into a variable spotify_data\n",
    "flight_delays_data = pd.read_csv(flight_delays_filepath, index_col=\"Month\", parse_dates=True)"
   ],
   "metadata": {
    "collapsed": false
   }
  },
  {
   "cell_type": "code",
   "execution_count": 4,
   "outputs": [
    {
     "data": {
      "text/plain": "             AA        AS         B6        DL         EV         F9  \\\nMonth                                                                  \n1      6.955843 -0.320888   7.347281 -2.043847   8.537497  18.357238   \n2      7.530204 -0.782923  18.657673  5.614745  10.417236  27.424179   \n3      6.693587 -0.544731  10.741317  2.077965   6.730101  20.074855   \n4      4.931778 -3.009003   2.780105  0.083343   4.821253  12.640440   \n5      5.173878 -1.716398  -0.709019  0.149333   7.724290  13.007554   \n6      8.191017 -0.220621   5.047155  4.419594  13.952793  19.712951   \n7      3.870440  0.377408   5.841454  1.204862   6.926421  14.464543   \n8      3.193907  2.503899   9.280950  0.653114   5.154422   9.175737   \n9     -1.432732 -1.813800   3.539154 -3.703377   0.851062   0.978460   \n10    -0.580930 -2.993617   3.676787 -5.011516   2.303760   0.082127   \n11     0.772630 -1.916516   1.418299 -3.175414   4.415930  11.164527   \n12     4.149684 -1.846681  13.839290  2.504595   6.685176   9.346221   \n\n             HA         MQ         NK         OO         UA        US  \\\nMonth                                                                   \n1      3.512640  18.164974  11.398054  10.889894   6.352729  3.107457   \n2      6.029967  21.301627  16.474466   9.588895   7.260662  7.114455   \n3      3.468383  11.018418  10.039118   3.181693   4.892212  3.330787   \n4      0.011022   5.131228   8.766224   3.223796   4.376092  2.660290   \n5      0.826426   5.466790  22.397347   4.141162   6.827695  0.681605   \n6      0.882786   9.639323  35.561501   8.338477  16.932663  5.766296   \n7      2.001586   3.980289  14.352382   6.790333  10.262551       NaN   \n8      7.448029   1.896565  20.519018   5.606689   5.014041       NaN   \n9      3.696915  -2.167268   8.000101   1.530896  -1.794265       NaN   \n10     0.467074  -3.735054   6.810736   1.750897  -2.456542       NaN   \n11    -2.719894   0.220061   7.543881   4.925548   0.281064       NaN   \n12    -1.706475   0.662486  12.733123  10.947612   7.012079       NaN   \n\n              VX         WN  \nMonth                        \n1       1.420702   3.389466  \n2       7.784410   3.501363  \n3       5.348207   3.263341  \n4       0.995507   2.996399  \n5       7.102021   5.680777  \n6       5.779415  10.743462  \n7       7.135773  10.504942  \n8       5.106221   5.532108  \n9       0.070998  -1.336260  \n10      2.254278  -0.688851  \n11      0.116370   0.995684  \n12     13.498720   6.720893  ",
      "text/html": "<div>\n<style scoped>\n    .dataframe tbody tr th:only-of-type {\n        vertical-align: middle;\n    }\n\n    .dataframe tbody tr th {\n        vertical-align: top;\n    }\n\n    .dataframe thead th {\n        text-align: right;\n    }\n</style>\n<table border=\"1\" class=\"dataframe\">\n  <thead>\n    <tr style=\"text-align: right;\">\n      <th></th>\n      <th>AA</th>\n      <th>AS</th>\n      <th>B6</th>\n      <th>DL</th>\n      <th>EV</th>\n      <th>F9</th>\n      <th>HA</th>\n      <th>MQ</th>\n      <th>NK</th>\n      <th>OO</th>\n      <th>UA</th>\n      <th>US</th>\n      <th>VX</th>\n      <th>WN</th>\n    </tr>\n    <tr>\n      <th>Month</th>\n      <th></th>\n      <th></th>\n      <th></th>\n      <th></th>\n      <th></th>\n      <th></th>\n      <th></th>\n      <th></th>\n      <th></th>\n      <th></th>\n      <th></th>\n      <th></th>\n      <th></th>\n      <th></th>\n    </tr>\n  </thead>\n  <tbody>\n    <tr>\n      <th>1</th>\n      <td>6.955843</td>\n      <td>-0.320888</td>\n      <td>7.347281</td>\n      <td>-2.043847</td>\n      <td>8.537497</td>\n      <td>18.357238</td>\n      <td>3.512640</td>\n      <td>18.164974</td>\n      <td>11.398054</td>\n      <td>10.889894</td>\n      <td>6.352729</td>\n      <td>3.107457</td>\n      <td>1.420702</td>\n      <td>3.389466</td>\n    </tr>\n    <tr>\n      <th>2</th>\n      <td>7.530204</td>\n      <td>-0.782923</td>\n      <td>18.657673</td>\n      <td>5.614745</td>\n      <td>10.417236</td>\n      <td>27.424179</td>\n      <td>6.029967</td>\n      <td>21.301627</td>\n      <td>16.474466</td>\n      <td>9.588895</td>\n      <td>7.260662</td>\n      <td>7.114455</td>\n      <td>7.784410</td>\n      <td>3.501363</td>\n    </tr>\n    <tr>\n      <th>3</th>\n      <td>6.693587</td>\n      <td>-0.544731</td>\n      <td>10.741317</td>\n      <td>2.077965</td>\n      <td>6.730101</td>\n      <td>20.074855</td>\n      <td>3.468383</td>\n      <td>11.018418</td>\n      <td>10.039118</td>\n      <td>3.181693</td>\n      <td>4.892212</td>\n      <td>3.330787</td>\n      <td>5.348207</td>\n      <td>3.263341</td>\n    </tr>\n    <tr>\n      <th>4</th>\n      <td>4.931778</td>\n      <td>-3.009003</td>\n      <td>2.780105</td>\n      <td>0.083343</td>\n      <td>4.821253</td>\n      <td>12.640440</td>\n      <td>0.011022</td>\n      <td>5.131228</td>\n      <td>8.766224</td>\n      <td>3.223796</td>\n      <td>4.376092</td>\n      <td>2.660290</td>\n      <td>0.995507</td>\n      <td>2.996399</td>\n    </tr>\n    <tr>\n      <th>5</th>\n      <td>5.173878</td>\n      <td>-1.716398</td>\n      <td>-0.709019</td>\n      <td>0.149333</td>\n      <td>7.724290</td>\n      <td>13.007554</td>\n      <td>0.826426</td>\n      <td>5.466790</td>\n      <td>22.397347</td>\n      <td>4.141162</td>\n      <td>6.827695</td>\n      <td>0.681605</td>\n      <td>7.102021</td>\n      <td>5.680777</td>\n    </tr>\n    <tr>\n      <th>6</th>\n      <td>8.191017</td>\n      <td>-0.220621</td>\n      <td>5.047155</td>\n      <td>4.419594</td>\n      <td>13.952793</td>\n      <td>19.712951</td>\n      <td>0.882786</td>\n      <td>9.639323</td>\n      <td>35.561501</td>\n      <td>8.338477</td>\n      <td>16.932663</td>\n      <td>5.766296</td>\n      <td>5.779415</td>\n      <td>10.743462</td>\n    </tr>\n    <tr>\n      <th>7</th>\n      <td>3.870440</td>\n      <td>0.377408</td>\n      <td>5.841454</td>\n      <td>1.204862</td>\n      <td>6.926421</td>\n      <td>14.464543</td>\n      <td>2.001586</td>\n      <td>3.980289</td>\n      <td>14.352382</td>\n      <td>6.790333</td>\n      <td>10.262551</td>\n      <td>NaN</td>\n      <td>7.135773</td>\n      <td>10.504942</td>\n    </tr>\n    <tr>\n      <th>8</th>\n      <td>3.193907</td>\n      <td>2.503899</td>\n      <td>9.280950</td>\n      <td>0.653114</td>\n      <td>5.154422</td>\n      <td>9.175737</td>\n      <td>7.448029</td>\n      <td>1.896565</td>\n      <td>20.519018</td>\n      <td>5.606689</td>\n      <td>5.014041</td>\n      <td>NaN</td>\n      <td>5.106221</td>\n      <td>5.532108</td>\n    </tr>\n    <tr>\n      <th>9</th>\n      <td>-1.432732</td>\n      <td>-1.813800</td>\n      <td>3.539154</td>\n      <td>-3.703377</td>\n      <td>0.851062</td>\n      <td>0.978460</td>\n      <td>3.696915</td>\n      <td>-2.167268</td>\n      <td>8.000101</td>\n      <td>1.530896</td>\n      <td>-1.794265</td>\n      <td>NaN</td>\n      <td>0.070998</td>\n      <td>-1.336260</td>\n    </tr>\n    <tr>\n      <th>10</th>\n      <td>-0.580930</td>\n      <td>-2.993617</td>\n      <td>3.676787</td>\n      <td>-5.011516</td>\n      <td>2.303760</td>\n      <td>0.082127</td>\n      <td>0.467074</td>\n      <td>-3.735054</td>\n      <td>6.810736</td>\n      <td>1.750897</td>\n      <td>-2.456542</td>\n      <td>NaN</td>\n      <td>2.254278</td>\n      <td>-0.688851</td>\n    </tr>\n    <tr>\n      <th>11</th>\n      <td>0.772630</td>\n      <td>-1.916516</td>\n      <td>1.418299</td>\n      <td>-3.175414</td>\n      <td>4.415930</td>\n      <td>11.164527</td>\n      <td>-2.719894</td>\n      <td>0.220061</td>\n      <td>7.543881</td>\n      <td>4.925548</td>\n      <td>0.281064</td>\n      <td>NaN</td>\n      <td>0.116370</td>\n      <td>0.995684</td>\n    </tr>\n    <tr>\n      <th>12</th>\n      <td>4.149684</td>\n      <td>-1.846681</td>\n      <td>13.839290</td>\n      <td>2.504595</td>\n      <td>6.685176</td>\n      <td>9.346221</td>\n      <td>-1.706475</td>\n      <td>0.662486</td>\n      <td>12.733123</td>\n      <td>10.947612</td>\n      <td>7.012079</td>\n      <td>NaN</td>\n      <td>13.498720</td>\n      <td>6.720893</td>\n    </tr>\n  </tbody>\n</table>\n</div>"
     },
     "execution_count": 4,
     "metadata": {},
     "output_type": "execute_result"
    }
   ],
   "source": [
    "flight_delays_data"
   ],
   "metadata": {
    "collapsed": false
   }
  },
  {
   "cell_type": "code",
   "execution_count": 6,
   "outputs": [
    {
     "data": {
      "text/plain": "Text(0, 0.5, 'Arrival delay (in minutes)')"
     },
     "execution_count": 6,
     "metadata": {},
     "output_type": "execute_result"
    },
    {
     "data": {
      "text/plain": "<Figure size 720x432 with 1 Axes>",
      "image/png": "[encoded data removed]"
     },
     "metadata": {
      "needs_background": "light"
     },
     "output_type": "display_data"
    }
   ],
   "source": [
    "# Set the width and height of the figure\n",
    "plt.figure(figsize=(10,6))\n",
    "\n",
    "# Add title\n",
    "plt.title(\"Average Arrival Delay for Spirit Airlines Flights, by Month\")\n",
    "\n",
    "# Bar chart showing average arrival delay for Spirit Airlines flights by month\n",
    "sns.barplot(x=flight_delays_data.index, y=flight_delays_data['NK'])\n",
    "\n",
    "# Add label for vertical axis\n",
    "plt.ylabel(\"Arrival delay (in minutes)\")"
   ],
   "metadata": {
    "collapsed": false
   }
  },
  {
   "cell_type": "code",
   "execution_count": null,
   "outputs": [],
   "source": [],
   "metadata": {
    "collapsed": false
   }
  }
 ],
 "metadata": {
  "kernelspec": {
   "display_name": "Python 3",
   "language": "python",
   "name": "python3"
  },
  "language_info": {
   "codemirror_mode": {
    "name": "ipython",
    "version": 2
   },
   "file_extension": ".py",
   "mimetype": "text/x-python",
   "name": "python",
   "nbconvert_exporter": "python",
   "pygments_lexer": "ipython2",
   "version": "2.7.6"
  }
 },
 "nbformat": 4,
 "nbformat_minor": 0
}
